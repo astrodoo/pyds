{
 "cells": [
  {
   "cell_type": "markdown",
   "metadata": {},
   "source": [
    "# Practice of Readcol\n",
    "* read the columns with formats from ascii data"
   ]
  },
  {
   "cell_type": "code",
   "execution_count": 1,
   "metadata": {
    "collapsed": false
   },
   "outputs": [
    {
     "name": "stdout",
     "output_type": "stream",
     "text": [
      "12.3    4134    232.    23d3    asdf\n",
      "\n",
      "142.    233     1d12    NAN     dfds\n",
      "\n",
      "2342.   12.2    2342.   12e1    zxcve\n",
      "\n",
      "211.    123     32432.  32423   kas\n",
      "\n",
      "423.    454     232     2321.   cxi\n",
      "\n"
     ]
    }
   ],
   "source": [
    "\"\"\" Check the ascii data \"\"\"\n",
    "import os\n",
    "\n",
    "fdir = os.environ['PYTHONDATA']\n",
    "fname = fdir+'test_usr'\n",
    "\n",
    "testf = open(fname,'r')\n",
    "text = testf.readlines(); testf.close()\n",
    "\n",
    "for itext in text:\n",
    "    print itext"
   ]
  },
  {
   "cell_type": "code",
   "execution_count": 2,
   "metadata": {
    "collapsed": false
   },
   "outputs": [
    {
     "name": "stdout",
     "output_type": "stream",
     "text": [
      "[ 142 2342  211  423] [    nan    120.  32423.   2321.] ['dfds' 'zxcve' 'kas' 'cxi']\n"
     ]
    }
   ],
   "source": [
    "\"\"\" read columns of interest \"\"\"\n",
    "import os\n",
    "from pyds.tools import readcol\n",
    "\n",
    "fdir = os.environ['PYTHONDATA']\n",
    "fname = fdir+'test_usr'\n",
    "\n",
    "a,b,c = readcol(fname,format=['i','x','x','f','s'],nskip=1)\n",
    "\n",
    "print a,b,c"
   ]
  }
 ],
 "metadata": {
  "kernelspec": {
   "display_name": "Python 2",
   "language": "python",
   "name": "python2"
  },
  "language_info": {
   "codemirror_mode": {
    "name": "ipython",
    "version": 2
   },
   "file_extension": ".py",
   "mimetype": "text/x-python",
   "name": "python",
   "nbconvert_exporter": "python",
   "pygments_lexer": "ipython2",
   "version": "2.7.13"
  }
 },
 "nbformat": 4,
 "nbformat_minor": 2
}
