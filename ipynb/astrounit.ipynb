{
 "cells": [
  {
   "cell_type": "markdown",
   "metadata": {},
   "source": [
    "## For using astrounit\n",
    "\n",
    "Just quick connection to astropy.constants only for cgs values and additional units."
   ]
  },
  {
   "cell_type": "code",
   "execution_count": 1,
   "metadata": {
    "collapsed": false
   },
   "outputs": [
    {
     "name": "stdout",
     "output_type": "stream",
     "text": [
      "    name \t name in astropy \t value in cgs \t unit\n",
      "----------------------------------------------------------------------\n",
      "      me \t             m_e \t 9.109383e-28 \t g\n",
      "      kb \t             k_B \t 1.380649e-16 \t erg / K\n",
      "       c \t               c \t 2.997925e+10 \t cm / s\n",
      "    rsun \t           R_sun \t 6.955080e+10 \t cm\n",
      "       g \t               G \t 6.673840e-08 \t cm3 / (g s2)\n",
      "      pc \t              pc \t 3.085678e+18 \t cm\n",
      "       h \t               h \t 6.626070e-27 \t erg s\n",
      "      mn \t             m_n \t 1.674927e-24 \t g\n",
      "      mh \t             m_p \t 1.672622e-24 \t g\n",
      " sigmaSB \t        sigma_sb \t 5.670373e-05 \t g / (K4 s3)\n",
      "    msun \t           M_sun \t 1.989100e+33 \t g\n",
      "      au \t              au \t 1.495979e+13 \t cm\n",
      "      mp \t             m_p \t 1.672622e-24 \t g\n",
      "  sigmaT \t         sigma_T \t 6.652459e-25 \t cm2\n",
      "    lsun \t           L_sun \t 3.846000e+33 \t erg / s\n",
      "     amu \t               u \t 1.660539e-24 \t g\n",
      "----------------------------------------------------------------------\n",
      "not in astropy:\n",
      "     lyr \t  not in astropy \t 9.454255e+17 \t cm\n"
     ]
    }
   ],
   "source": [
    "from pyds import astrounit\n",
    "\n",
    "astrounit.info()"
   ]
  },
  {
   "cell_type": "code",
   "execution_count": 2,
   "metadata": {
    "collapsed": false
   },
   "outputs": [
    {
     "name": "stdout",
     "output_type": "stream",
     "text": [
      "6.67384e-08 3.08567758147e+18 9.45425495549e+17\n"
     ]
    }
   ],
   "source": [
    "from pyds.astrounit import astrounit as unit\n",
    "\n",
    "print unit.g, unit.pc, unit.lyr"
   ]
  },
  {
   "cell_type": "code",
   "execution_count": 3,
   "metadata": {
    "collapsed": false
   },
   "outputs": [
    {
     "name": "stdout",
     "output_type": "stream",
     "text": [
      "6.67384e-08\n"
     ]
    }
   ],
   "source": [
    "from astropy import constants as cons\n",
    "\n",
    "print cons.G.cgs.value"
   ]
  },
  {
   "cell_type": "code",
   "execution_count": null,
   "metadata": {
    "collapsed": true
   },
   "outputs": [],
   "source": []
  }
 ],
 "metadata": {
  "kernelspec": {
   "display_name": "Python 2",
   "language": "python",
   "name": "python2"
  },
  "language_info": {
   "codemirror_mode": {
    "name": "ipython",
    "version": 2
   },
   "file_extension": ".py",
   "mimetype": "text/x-python",
   "name": "python",
   "nbconvert_exporter": "python",
   "pygments_lexer": "ipython2",
   "version": "2.7.13"
  }
 },
 "nbformat": 4,
 "nbformat_minor": 2
}
