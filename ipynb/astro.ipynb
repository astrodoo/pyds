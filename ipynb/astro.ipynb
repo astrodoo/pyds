{
 "cells": [
  {
   "cell_type": "markdown",
   "metadata": {},
   "source": [
    "# pyds.astro"
   ]
  },
  {
   "cell_type": "markdown",
   "metadata": {},
   "source": [
    "## pyds.astro.astrounit\n",
    "\n",
    "* For the purpose of quick reading the astronomical constants in cgs unit.\n",
    "* This module may be particularly useful if you compile it in the start-up batch file.\n",
    " 1. add PYTHONSTARTUP variable to .bashrc <br>\n",
    " `export PYTHONSTARTUP=$PYTHONPATH/startup.py` <br>\n",
    " or .tcshrc <br>\n",
    " `setenv PYTHONSTARTUP $PYTHONPATH/startup.py`\n",
    " 2. in startup.py, add the line below: <br>\n",
    " `from pyds.astro import astrounit as unit`\n",
    " 3. Then, whenever you open the python, you can use the units without hassels. "
   ]
  },
  {
   "cell_type": "code",
   "execution_count": 1,
   "metadata": {},
   "outputs": [
    {
     "name": "stdout",
     "output_type": "stream",
     "text": [
      "    name \t name in astropy \t value in cgs \t unit\n",
      "----------------------------------------------------------------------\n",
      "      me \t             m_e \t 9.109383e-28 \t g\n",
      "      kb \t             k_B \t 1.380649e-16 \t erg / K\n",
      "       c \t               c \t 2.997925e+10 \t cm / s\n",
      "    rsun \t           R_sun \t 6.955080e+10 \t cm\n",
      "       g \t               G \t 6.673840e-08 \t cm3 / (g s2)\n",
      "      pc \t              pc \t 3.085678e+18 \t cm\n",
      "       h \t               h \t 6.626070e-27 \t erg s\n",
      "      mn \t             m_n \t 1.674927e-24 \t g\n",
      "      mh \t             m_p \t 1.672622e-24 \t g\n",
      " sigmaSB \t        sigma_sb \t 5.670373e-05 \t g / (K4 s3)\n",
      "    msun \t           M_sun \t 1.989100e+33 \t g\n",
      "     kpc \t             kpc \t 3.085678e+21 \t cm\n",
      "      au \t              au \t 1.495979e+13 \t cm\n",
      "      mp \t             m_p \t 1.672622e-24 \t g\n",
      "  sigmaT \t         sigma_T \t 6.652459e-25 \t cm2\n",
      "    lsun \t           L_sun \t 3.846000e+33 \t erg / s\n",
      "     amu \t               u \t 1.660539e-24 \t g\n",
      "----------------------------------------------------------------------\n",
      "not in astropy:\n",
      "    year \t  not in astropy \t 3.153600e+07 \t s\n",
      "     lyr \t  not in astropy \t 9.454255e+17 \t cm\n",
      "      eV \t  not in astropy \t 1.602177e-12 \t erg\n",
      "      Jy \t  not in astropy \t 1.000000e-23 \t erg / (cm2 s Hz)\n",
      "      re \t  not in astropy \t 2.817941e-13 \t cm\n"
     ]
    }
   ],
   "source": [
    "from pyds.astro import astrounit as unit\n",
    "\n",
    "unit.info()"
   ]
  },
  {
   "cell_type": "code",
   "execution_count": 2,
   "metadata": {},
   "outputs": [
    {
     "name": "stdout",
     "output_type": "stream",
     "text": [
      "6.67384e-08 3.08567758147e+18 9.45425495549e+17\n"
     ]
    }
   ],
   "source": [
    "from pyds.astro import astrounit as unit\n",
    "\n",
    "print unit.g, unit.pc, unit.lyr"
   ]
  },
  {
   "cell_type": "code",
   "execution_count": 3,
   "metadata": {},
   "outputs": [
    {
     "name": "stdout",
     "output_type": "stream",
     "text": [
      "6.67384e-08 6.67384e-08\n"
     ]
    }
   ],
   "source": [
    "\"\"\" In fact, the most values are referred to those of astropy package. This code \n",
    "    is aimed to call the astrophysical costant in cgs unit somewhat easily. \"\"\"\n",
    "from astropy import constants as cons\n",
    "from pyds.astro import astrounit as unit\n",
    "\n",
    "print cons.G.cgs.value, unit.g"
   ]
  },
  {
   "cell_type": "code",
   "execution_count": 4,
   "metadata": {},
   "outputs": [
    {
     "name": "stdout",
     "output_type": "stream",
     "text": [
      "    name \t name in astropy \t value in cgs \t unit\n",
      "----------------------------------------------------------------------\n",
      "      me \t             m_e \t 9.109383e-28 \t g\n",
      "      kb \t             k_B \t 1.380649e-16 \t erg / K\n",
      "       c \t               c \t 2.997925e+10 \t cm / s\n",
      "    rsun \t           R_sun \t 6.955080e+10 \t cm\n",
      "       g \t               G \t 6.673840e-08 \t cm3 / (g s2)\n",
      "      pc \t              pc \t 3.085678e+18 \t cm\n",
      "       h \t               h \t 6.626070e-27 \t erg s\n",
      "      mn \t             m_n \t 1.674927e-24 \t g\n",
      "      mh \t             m_p \t 1.672622e-24 \t g\n",
      " sigmaSB \t        sigma_sb \t 5.670373e-05 \t g / (K4 s3)\n",
      "    msun \t           M_sun \t 1.989100e+33 \t g\n",
      "     kpc \t             kpc \t 3.085678e+21 \t cm\n",
      "      au \t              au \t 1.495979e+13 \t cm\n",
      "      mp \t             m_p \t 1.672622e-24 \t g\n",
      "  sigmaT \t         sigma_T \t 6.652459e-25 \t cm2\n",
      "    lsun \t           L_sun \t 3.846000e+33 \t erg / s\n",
      "     amu \t               u \t 1.660539e-24 \t g\n",
      "----------------------------------------------------------------------\n",
      "not in astropy:\n",
      "    year \t  not in astropy \t 3.153600e+07 \t s\n",
      "     lyr \t  not in astropy \t 9.454255e+17 \t cm\n",
      "      eV \t  not in astropy \t 1.602177e-12 \t erg\n",
      "      Jy \t  not in astropy \t 1.000000e-23 \t erg / (cm2 s Hz)\n",
      "      re \t  not in astropy \t 2.817941e-13 \t cm\n",
      "None\n"
     ]
    }
   ],
   "source": [
    "import pyds.astro as astro\n",
    "\n",
    "print astro.info()"
   ]
  },
  {
   "cell_type": "markdown",
   "metadata": {},
   "source": [
    "## pyds.astro.astroeq\n",
    "\n",
    "- Formulae in astronomy\n",
    "- Most of equations fit to be in cgs unit.\n",
    "- Some equations may need to be double-checked before their usages."
   ]
  },
  {
   "cell_type": "code",
   "execution_count": 5,
   "metadata": {},
   "outputs": [
    {
     "name": "stdout",
     "output_type": "stream",
     "text": [
      "1.25741469797e+47\n",
      "2.95407146642e+14\n",
      "408248.290464\n",
      "0.0210074181092\n"
     ]
    }
   ],
   "source": [
    "from pyds.astro import astroeq as eq\n",
    "from pyds.astro import astrounit as unit\n",
    "\n",
    "print eq.Ledd(1e9*unit.msun)\n",
    "\n",
    "print eq.rsh(1.e9*unit.msun)\n",
    "\n",
    "print eq.cs(rho=1e-20, P=1e1) / 1e5\n",
    "\n",
    "print eq.tff(rho=1e10)"
   ]
  },
  {
   "cell_type": "code",
   "execution_count": 6,
   "metadata": {},
   "outputs": [
    {
     "name": "stdout",
     "output_type": "stream",
     "text": [
      "Help on module pyds.astro.astroeq in pyds.astro:\n",
      "\n",
      "NAME\n",
      "    pyds.astro.astroeq\n",
      "\n",
      "FILE\n",
      "    /home/astrodoo/lib/py_lib/pyds/astro/astroeq.py\n",
      "\n",
      "DESCRIPTION\n",
      "    filename:\n",
      "        astroeq.py\n",
      "    \n",
      "    PURPOSE:\n",
      "        collection of formulae in astronomy\n",
      "    \n",
      "    Written by:\n",
      "        Doosoo Yoon\n",
      "        Shanghai Astronomical Observatory\n",
      "    \n",
      "    History:\n",
      "        Written, 22 November 2017\n",
      "\n",
      "FUNCTIONS\n",
      "    Ledd(mbh)\n",
      "        Eddington Luminosity\n",
      "        mbh should be in cgs unit.\n",
      "        returned value would be in erg/s unit.\n",
      "    \n",
      "    Ljeans(T=0.0, rho=1.0, mmw=1.3)\n",
      "        Jean's length (assume the uniform density at the spherical shape) in cm unit\n",
      "        Ljeans = 2 x Rjeans, where Rjeans = (Mjeans/ (4/3 pi rho))^(1/3)\n",
      "        (using eq.(5.27) for Rjeans in astropedia)\n",
      "        \n",
      "        keywords:\n",
      "           T: temperature in K\n",
      "           rho: density in g/cm3\n",
      "           mmw: mean molecular weight (default=1.3 for neutral solar abundance)\n",
      "    \n",
      "    Mdotbondi(mbh=1.0, rho=1.0, cs=1.0)\n",
      "        Bondi Accretion rate\n",
      "        mbh, rho, cs(sound speed) should be in cgs unit\n",
      "        returned value would be in cm unit.\n",
      "        \n",
      "        keywords:\n",
      "            mbh: black hole mass in g unit\n",
      "            rho: density in g/cm3 unit\n",
      "            cs: sound speed in cm/s unit\n",
      "    \n",
      "    Mdotedd(mbh, radeff=0.1)\n",
      "        Eddington BH mass accretion rate \n",
      "        mbh should be in cgs unit.\n",
      "        returned value would be in g/s unit\n",
      "        \n",
      "        args:\n",
      "            mbh: black hole mass in g unit\n",
      "        keywords:\n",
      "            radeff: radiative efficiency (default=0.1)\n",
      "    \n",
      "    Mjeans(T=0.0, rho=1.0, mmw=1.3)\n",
      "        Jean's mass (assume the uniform density at the spherical shape) in g unit\n",
      "        (eq.(5.26) in astropedia)\n",
      "        \n",
      "        keywords:\n",
      "           T: temperature in K\n",
      "           rho: density in g/cm3\n",
      "           mmw: mean molecular weight (default=1.3 for neutral solar abundance)\n",
      "    \n",
      "    cs(gamma=1.6666666666666667, **keywords)\n",
      "        sound speed\n",
      "        Either of T (temperature) or P (pressure) & rho (density) should be entered\n",
      "        keywords:\n",
      "             gamma: adiabatic index (default: 5./3.)\n",
      "        **keywords:\n",
      "             T: temperature in K\n",
      "             P: pressure in cgs\n",
      "             rho: density in cgs\n",
      "             mmw: mean molecular weight (default: 0.62 for fully ionized)\n",
      "    \n",
      "    rbondi(mbh=1.0, cs=1.0)\n",
      "        Bondi radius\n",
      "        mbh and cs(sound speed) should be in cgs unit\n",
      "        returned value would be in cm unit.\n",
      "        \n",
      "        keywords:\n",
      "            mbh: black hole mass in g unit\n",
      "            cs: sound speed in cm/s unit\n",
      "    \n",
      "    rsh(mbh)\n",
      "        Schwarschild radius\n",
      "        mbh shoud be in cgs unit.\n",
      "        returned value would be in cm unit.\n",
      "    \n",
      "    tff(rho=1.0)\n",
      "        free-fall time scale (assume the uniform density at the spherical shape) in s unit\n",
      "        (eq.(5.28) in astropedia)\n",
      "        \n",
      "        keywords:\n",
      "            rho: density in g/cm3\n",
      "    \n",
      "    vkep(pointmass, r=1.0)\n",
      "        Keplerian velocity in the gravitional potential due to point mass.\n",
      "        returned value would be in cm/s\n",
      "        \n",
      "        args:\n",
      "            pointmass: mass of the central point in g\n",
      "        keywords:\n",
      "            r: radius\n",
      "\n",
      "\n"
     ]
    }
   ],
   "source": [
    "help(eq)"
   ]
  },
  {
   "cell_type": "markdown",
   "metadata": {},
   "source": [
    "## pyds.astro.bhscale\n",
    "* calculate the radius of event horizon and the innermost stable circular orbit with the given parameters of black hole (mass, spin)\n",
    "* visualize the scales"
   ]
  },
  {
   "cell_type": "code",
   "execution_count": 2,
   "metadata": {},
   "outputs": [],
   "source": [
    "from pyds.astro import bhscale\n",
    "\n",
    "# mbh: black hole mass in solar mass\n",
    "# distance: distance to the target in kpc unit\n",
    "# spin: spin of black hole\n",
    "Sgr = bhscale(mbh=4.1e6, distance=8.1, spin=0.9375)"
   ]
  },
  {
   "cell_type": "code",
   "execution_count": 4,
   "metadata": {},
   "outputs": [
    {
     "name": "stdout",
     "output_type": "stream",
     "text": [
      "rg = 6.054163e+11 cm\n",
      "rh = 1.347985 rg\n",
      "risco = 2.044201 rg\n"
     ]
    }
   ],
   "source": [
    "print 'rg = %e cm'%Sgr.rg\n",
    "print 'rh = %f rg'%Sgr.rh\n",
    "print 'risco = %f rg'%Sgr.risco\n"
   ]
  },
  {
   "cell_type": "code",
   "execution_count": 6,
   "metadata": {},
   "outputs": [
    {
     "name": "stdout",
     "output_type": "stream",
     "text": [
      "BH Params: Mbh=4.100000e+06 M_sun, spin=0.937500, Distance=8.100000e+00 kpc\n",
      "rg: 6.054163e+11 cm\n",
      "rh: 1.347985 rg\n",
      "risco: 2.044201 rg\n",
      "saved to ./example_data/bhscale.eps\n"
     ]
    },
    {
     "data": {
      "image/png": "[encoded data removed]",
      "text/plain": [
       "<Figure size 1076.92x1500 with 5 Axes>"
      ]
     },
     "metadata": {},
     "output_type": "display_data"
    }
   ],
   "source": [
    "%matplotlib inline\n",
    "\n",
    "figdir = './example_data/'\n",
    "Sgr.draw(rgmax=1e3,log=True, out=figdir+\"bhscale.eps\")"
   ]
  }
 ],
 "metadata": {
  "kernelspec": {
   "display_name": "Python 2",
   "language": "python",
   "name": "python2"
  },
  "language_info": {
   "codemirror_mode": {
    "name": "ipython",
    "version": 2
   },
   "file_extension": ".py",
   "mimetype": "text/x-python",
   "name": "python",
   "nbconvert_exporter": "python",
   "pygments_lexer": "ipython2",
   "version": "2.7.14"
  }
 },
 "nbformat": 4,
 "nbformat_minor": 2
}
